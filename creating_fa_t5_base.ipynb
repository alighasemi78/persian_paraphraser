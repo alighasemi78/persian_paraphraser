{
  "nbformat": 4,
  "nbformat_minor": 0,
  "metadata": {
    "colab": {
      "provenance": [],
      "authorship_tag": "ABX9TyNl165ZjFKPkLpKFCtNdscH",
      "include_colab_link": true
    },
    "kernelspec": {
      "name": "python3",
      "display_name": "Python 3"
    },
    "language_info": {
      "name": "python"
    },
    "widgets": {
      "application/vnd.jupyter.widget-state+json": {
        "5ec8ea4aa57b470795c400a4189e0103": {
          "model_module": "@jupyter-widgets/controls",
          "model_name": "HBoxModel",
          "model_module_version": "1.5.0",
          "state": {
            "_dom_classes": [],
            "_model_module": "@jupyter-widgets/controls",
            "_model_module_version": "1.5.0",
            "_model_name": "HBoxModel",
            "_view_count": null,
            "_view_module": "@jupyter-widgets/controls",
            "_view_module_version": "1.5.0",
            "_view_name": "HBoxView",
            "box_style": "",
            "children": [
              "IPY_MODEL_d5f8af0377464dc5b2b5e36b3e566462",
              "IPY_MODEL_a042a7a748b0462ca9a72a34d3ef33ed",
              "IPY_MODEL_b1f06341759c4cf1be45a4fb7b9543cf"
            ],
            "layout": "IPY_MODEL_4fbfc0408a1f4f46a40e2739ccad2aa1"
          }
        },
        "d5f8af0377464dc5b2b5e36b3e566462": {
          "model_module": "@jupyter-widgets/controls",
          "model_name": "HTMLModel",
          "model_module_version": "1.5.0",
          "state": {
            "_dom_classes": [],
            "_model_module": "@jupyter-widgets/controls",
            "_model_module_version": "1.5.0",
            "_model_name": "HTMLModel",
            "_view_count": null,
            "_view_module": "@jupyter-widgets/controls",
            "_view_module_version": "1.5.0",
            "_view_name": "HTMLView",
            "description": "",
            "description_tooltip": null,
            "layout": "IPY_MODEL_7d93678ada2540358b4faf0b92efcc26",
            "placeholder": "​",
            "style": "IPY_MODEL_1cc0c82fe4bc484c8bbff6f9874ae833",
            "value": "100%"
          }
        },
        "a042a7a748b0462ca9a72a34d3ef33ed": {
          "model_module": "@jupyter-widgets/controls",
          "model_name": "FloatProgressModel",
          "model_module_version": "1.5.0",
          "state": {
            "_dom_classes": [],
            "_model_module": "@jupyter-widgets/controls",
            "_model_module_version": "1.5.0",
            "_model_name": "FloatProgressModel",
            "_view_count": null,
            "_view_module": "@jupyter-widgets/controls",
            "_view_module_version": "1.5.0",
            "_view_name": "ProgressView",
            "bar_style": "success",
            "description": "",
            "description_tooltip": null,
            "layout": "IPY_MODEL_64b6059b2645410c8f47fb55fd908cee",
            "max": 1000000,
            "min": 0,
            "orientation": "horizontal",
            "style": "IPY_MODEL_59768a61fea343ab95e8e52eae999c37",
            "value": 1000000
          }
        },
        "b1f06341759c4cf1be45a4fb7b9543cf": {
          "model_module": "@jupyter-widgets/controls",
          "model_name": "HTMLModel",
          "model_module_version": "1.5.0",
          "state": {
            "_dom_classes": [],
            "_model_module": "@jupyter-widgets/controls",
            "_model_module_version": "1.5.0",
            "_model_name": "HTMLModel",
            "_view_count": null,
            "_view_module": "@jupyter-widgets/controls",
            "_view_module_version": "1.5.0",
            "_view_name": "HTMLView",
            "description": "",
            "description_tooltip": null,
            "layout": "IPY_MODEL_93dad58b420c46f596fbaafc658fad63",
            "placeholder": "​",
            "style": "IPY_MODEL_309410ed90994340a21d844720f93356",
            "value": " 1000000/1000000 [04:56&lt;00:00, 3786.39it/s]"
          }
        },
        "4fbfc0408a1f4f46a40e2739ccad2aa1": {
          "model_module": "@jupyter-widgets/base",
          "model_name": "LayoutModel",
          "model_module_version": "1.2.0",
          "state": {
            "_model_module": "@jupyter-widgets/base",
            "_model_module_version": "1.2.0",
            "_model_name": "LayoutModel",
            "_view_count": null,
            "_view_module": "@jupyter-widgets/base",
            "_view_module_version": "1.2.0",
            "_view_name": "LayoutView",
            "align_content": null,
            "align_items": null,
            "align_self": null,
            "border": null,
            "bottom": null,
            "display": null,
            "flex": null,
            "flex_flow": null,
            "grid_area": null,
            "grid_auto_columns": null,
            "grid_auto_flow": null,
            "grid_auto_rows": null,
            "grid_column": null,
            "grid_gap": null,
            "grid_row": null,
            "grid_template_areas": null,
            "grid_template_columns": null,
            "grid_template_rows": null,
            "height": null,
            "justify_content": null,
            "justify_items": null,
            "left": null,
            "margin": null,
            "max_height": null,
            "max_width": null,
            "min_height": null,
            "min_width": null,
            "object_fit": null,
            "object_position": null,
            "order": null,
            "overflow": null,
            "overflow_x": null,
            "overflow_y": null,
            "padding": null,
            "right": null,
            "top": null,
            "visibility": null,
            "width": null
          }
        },
        "7d93678ada2540358b4faf0b92efcc26": {
          "model_module": "@jupyter-widgets/base",
          "model_name": "LayoutModel",
          "model_module_version": "1.2.0",
          "state": {
            "_model_module": "@jupyter-widgets/base",
            "_model_module_version": "1.2.0",
            "_model_name": "LayoutModel",
            "_view_count": null,
            "_view_module": "@jupyter-widgets/base",
            "_view_module_version": "1.2.0",
            "_view_name": "LayoutView",
            "align_content": null,
            "align_items": null,
            "align_self": null,
            "border": null,
            "bottom": null,
            "display": null,
            "flex": null,
            "flex_flow": null,
            "grid_area": null,
            "grid_auto_columns": null,
            "grid_auto_flow": null,
            "grid_auto_rows": null,
            "grid_column": null,
            "grid_gap": null,
            "grid_row": null,
            "grid_template_areas": null,
            "grid_template_columns": null,
            "grid_template_rows": null,
            "height": null,
            "justify_content": null,
            "justify_items": null,
            "left": null,
            "margin": null,
            "max_height": null,
            "max_width": null,
            "min_height": null,
            "min_width": null,
            "object_fit": null,
            "object_position": null,
            "order": null,
            "overflow": null,
            "overflow_x": null,
            "overflow_y": null,
            "padding": null,
            "right": null,
            "top": null,
            "visibility": null,
            "width": null
          }
        },
        "1cc0c82fe4bc484c8bbff6f9874ae833": {
          "model_module": "@jupyter-widgets/controls",
          "model_name": "DescriptionStyleModel",
          "model_module_version": "1.5.0",
          "state": {
            "_model_module": "@jupyter-widgets/controls",
            "_model_module_version": "1.5.0",
            "_model_name": "DescriptionStyleModel",
            "_view_count": null,
            "_view_module": "@jupyter-widgets/base",
            "_view_module_version": "1.2.0",
            "_view_name": "StyleView",
            "description_width": ""
          }
        },
        "64b6059b2645410c8f47fb55fd908cee": {
          "model_module": "@jupyter-widgets/base",
          "model_name": "LayoutModel",
          "model_module_version": "1.2.0",
          "state": {
            "_model_module": "@jupyter-widgets/base",
            "_model_module_version": "1.2.0",
            "_model_name": "LayoutModel",
            "_view_count": null,
            "_view_module": "@jupyter-widgets/base",
            "_view_module_version": "1.2.0",
            "_view_name": "LayoutView",
            "align_content": null,
            "align_items": null,
            "align_self": null,
            "border": null,
            "bottom": null,
            "display": null,
            "flex": null,
            "flex_flow": null,
            "grid_area": null,
            "grid_auto_columns": null,
            "grid_auto_flow": null,
            "grid_auto_rows": null,
            "grid_column": null,
            "grid_gap": null,
            "grid_row": null,
            "grid_template_areas": null,
            "grid_template_columns": null,
            "grid_template_rows": null,
            "height": null,
            "justify_content": null,
            "justify_items": null,
            "left": null,
            "margin": null,
            "max_height": null,
            "max_width": null,
            "min_height": null,
            "min_width": null,
            "object_fit": null,
            "object_position": null,
            "order": null,
            "overflow": null,
            "overflow_x": null,
            "overflow_y": null,
            "padding": null,
            "right": null,
            "top": null,
            "visibility": null,
            "width": null
          }
        },
        "59768a61fea343ab95e8e52eae999c37": {
          "model_module": "@jupyter-widgets/controls",
          "model_name": "ProgressStyleModel",
          "model_module_version": "1.5.0",
          "state": {
            "_model_module": "@jupyter-widgets/controls",
            "_model_module_version": "1.5.0",
            "_model_name": "ProgressStyleModel",
            "_view_count": null,
            "_view_module": "@jupyter-widgets/base",
            "_view_module_version": "1.2.0",
            "_view_name": "StyleView",
            "bar_color": null,
            "description_width": ""
          }
        },
        "93dad58b420c46f596fbaafc658fad63": {
          "model_module": "@jupyter-widgets/base",
          "model_name": "LayoutModel",
          "model_module_version": "1.2.0",
          "state": {
            "_model_module": "@jupyter-widgets/base",
            "_model_module_version": "1.2.0",
            "_model_name": "LayoutModel",
            "_view_count": null,
            "_view_module": "@jupyter-widgets/base",
            "_view_module_version": "1.2.0",
            "_view_name": "LayoutView",
            "align_content": null,
            "align_items": null,
            "align_self": null,
            "border": null,
            "bottom": null,
            "display": null,
            "flex": null,
            "flex_flow": null,
            "grid_area": null,
            "grid_auto_columns": null,
            "grid_auto_flow": null,
            "grid_auto_rows": null,
            "grid_column": null,
            "grid_gap": null,
            "grid_row": null,
            "grid_template_areas": null,
            "grid_template_columns": null,
            "grid_template_rows": null,
            "height": null,
            "justify_content": null,
            "justify_items": null,
            "left": null,
            "margin": null,
            "max_height": null,
            "max_width": null,
            "min_height": null,
            "min_width": null,
            "object_fit": null,
            "object_position": null,
            "order": null,
            "overflow": null,
            "overflow_x": null,
            "overflow_y": null,
            "padding": null,
            "right": null,
            "top": null,
            "visibility": null,
            "width": null
          }
        },
        "309410ed90994340a21d844720f93356": {
          "model_module": "@jupyter-widgets/controls",
          "model_name": "DescriptionStyleModel",
          "model_module_version": "1.5.0",
          "state": {
            "_model_module": "@jupyter-widgets/controls",
            "_model_module_version": "1.5.0",
            "_model_name": "DescriptionStyleModel",
            "_view_count": null,
            "_view_module": "@jupyter-widgets/base",
            "_view_module_version": "1.2.0",
            "_view_name": "StyleView",
            "description_width": ""
          }
        },
        "f2aae6a2aeec46c2bcfeaf7c82c83850": {
          "model_module": "@jupyter-widgets/controls",
          "model_name": "HBoxModel",
          "model_module_version": "1.5.0",
          "state": {
            "_dom_classes": [],
            "_model_module": "@jupyter-widgets/controls",
            "_model_module_version": "1.5.0",
            "_model_name": "HBoxModel",
            "_view_count": null,
            "_view_module": "@jupyter-widgets/controls",
            "_view_module_version": "1.5.0",
            "_view_name": "HBoxView",
            "box_style": "",
            "children": [
              "IPY_MODEL_1cb3b3faee564b37b72cbe3054124ee0",
              "IPY_MODEL_72378d57a231437da0f32c5c86fd258b",
              "IPY_MODEL_5f37caeb35634efbb42fffdb91d24ed9"
            ],
            "layout": "IPY_MODEL_84642046fe1b4126b301743d40c8050b"
          }
        },
        "1cb3b3faee564b37b72cbe3054124ee0": {
          "model_module": "@jupyter-widgets/controls",
          "model_name": "HTMLModel",
          "model_module_version": "1.5.0",
          "state": {
            "_dom_classes": [],
            "_model_module": "@jupyter-widgets/controls",
            "_model_module_version": "1.5.0",
            "_model_name": "HTMLModel",
            "_view_count": null,
            "_view_module": "@jupyter-widgets/controls",
            "_view_module_version": "1.5.0",
            "_view_name": "HTMLView",
            "description": "",
            "description_tooltip": null,
            "layout": "IPY_MODEL_d5607071ce814f79b6d86acc1c6dc864",
            "placeholder": "​",
            "style": "IPY_MODEL_2c21e9fc30da45dc8e90561ff000ffa8",
            "value": "100%"
          }
        },
        "72378d57a231437da0f32c5c86fd258b": {
          "model_module": "@jupyter-widgets/controls",
          "model_name": "FloatProgressModel",
          "model_module_version": "1.5.0",
          "state": {
            "_dom_classes": [],
            "_model_module": "@jupyter-widgets/controls",
            "_model_module_version": "1.5.0",
            "_model_name": "FloatProgressModel",
            "_view_count": null,
            "_view_module": "@jupyter-widgets/controls",
            "_view_module_version": "1.5.0",
            "_view_name": "ProgressView",
            "bar_style": "success",
            "description": "",
            "description_tooltip": null,
            "layout": "IPY_MODEL_81439d2eb322472fa8cd3933e6d831af",
            "max": 1000000,
            "min": 0,
            "orientation": "horizontal",
            "style": "IPY_MODEL_566cedfb9d764e28a8dc20871f16448f",
            "value": 1000000
          }
        },
        "5f37caeb35634efbb42fffdb91d24ed9": {
          "model_module": "@jupyter-widgets/controls",
          "model_name": "HTMLModel",
          "model_module_version": "1.5.0",
          "state": {
            "_dom_classes": [],
            "_model_module": "@jupyter-widgets/controls",
            "_model_module_version": "1.5.0",
            "_model_name": "HTMLModel",
            "_view_count": null,
            "_view_module": "@jupyter-widgets/controls",
            "_view_module_version": "1.5.0",
            "_view_name": "HTMLView",
            "description": "",
            "description_tooltip": null,
            "layout": "IPY_MODEL_ab8ec15c3e8d429a9d8e106723c8b163",
            "placeholder": "​",
            "style": "IPY_MODEL_1cc839572d0e4d49a5cf85c0bb2c40c3",
            "value": " 1000000/1000000 [04:05&lt;00:00, 4420.98it/s]"
          }
        },
        "84642046fe1b4126b301743d40c8050b": {
          "model_module": "@jupyter-widgets/base",
          "model_name": "LayoutModel",
          "model_module_version": "1.2.0",
          "state": {
            "_model_module": "@jupyter-widgets/base",
            "_model_module_version": "1.2.0",
            "_model_name": "LayoutModel",
            "_view_count": null,
            "_view_module": "@jupyter-widgets/base",
            "_view_module_version": "1.2.0",
            "_view_name": "LayoutView",
            "align_content": null,
            "align_items": null,
            "align_self": null,
            "border": null,
            "bottom": null,
            "display": null,
            "flex": null,
            "flex_flow": null,
            "grid_area": null,
            "grid_auto_columns": null,
            "grid_auto_flow": null,
            "grid_auto_rows": null,
            "grid_column": null,
            "grid_gap": null,
            "grid_row": null,
            "grid_template_areas": null,
            "grid_template_columns": null,
            "grid_template_rows": null,
            "height": null,
            "justify_content": null,
            "justify_items": null,
            "left": null,
            "margin": null,
            "max_height": null,
            "max_width": null,
            "min_height": null,
            "min_width": null,
            "object_fit": null,
            "object_position": null,
            "order": null,
            "overflow": null,
            "overflow_x": null,
            "overflow_y": null,
            "padding": null,
            "right": null,
            "top": null,
            "visibility": null,
            "width": null
          }
        },
        "d5607071ce814f79b6d86acc1c6dc864": {
          "model_module": "@jupyter-widgets/base",
          "model_name": "LayoutModel",
          "model_module_version": "1.2.0",
          "state": {
            "_model_module": "@jupyter-widgets/base",
            "_model_module_version": "1.2.0",
            "_model_name": "LayoutModel",
            "_view_count": null,
            "_view_module": "@jupyter-widgets/base",
            "_view_module_version": "1.2.0",
            "_view_name": "LayoutView",
            "align_content": null,
            "align_items": null,
            "align_self": null,
            "border": null,
            "bottom": null,
            "display": null,
            "flex": null,
            "flex_flow": null,
            "grid_area": null,
            "grid_auto_columns": null,
            "grid_auto_flow": null,
            "grid_auto_rows": null,
            "grid_column": null,
            "grid_gap": null,
            "grid_row": null,
            "grid_template_areas": null,
            "grid_template_columns": null,
            "grid_template_rows": null,
            "height": null,
            "justify_content": null,
            "justify_items": null,
            "left": null,
            "margin": null,
            "max_height": null,
            "max_width": null,
            "min_height": null,
            "min_width": null,
            "object_fit": null,
            "object_position": null,
            "order": null,
            "overflow": null,
            "overflow_x": null,
            "overflow_y": null,
            "padding": null,
            "right": null,
            "top": null,
            "visibility": null,
            "width": null
          }
        },
        "2c21e9fc30da45dc8e90561ff000ffa8": {
          "model_module": "@jupyter-widgets/controls",
          "model_name": "DescriptionStyleModel",
          "model_module_version": "1.5.0",
          "state": {
            "_model_module": "@jupyter-widgets/controls",
            "_model_module_version": "1.5.0",
            "_model_name": "DescriptionStyleModel",
            "_view_count": null,
            "_view_module": "@jupyter-widgets/base",
            "_view_module_version": "1.2.0",
            "_view_name": "StyleView",
            "description_width": ""
          }
        },
        "81439d2eb322472fa8cd3933e6d831af": {
          "model_module": "@jupyter-widgets/base",
          "model_name": "LayoutModel",
          "model_module_version": "1.2.0",
          "state": {
            "_model_module": "@jupyter-widgets/base",
            "_model_module_version": "1.2.0",
            "_model_name": "LayoutModel",
            "_view_count": null,
            "_view_module": "@jupyter-widgets/base",
            "_view_module_version": "1.2.0",
            "_view_name": "LayoutView",
            "align_content": null,
            "align_items": null,
            "align_self": null,
            "border": null,
            "bottom": null,
            "display": null,
            "flex": null,
            "flex_flow": null,
            "grid_area": null,
            "grid_auto_columns": null,
            "grid_auto_flow": null,
            "grid_auto_rows": null,
            "grid_column": null,
            "grid_gap": null,
            "grid_row": null,
            "grid_template_areas": null,
            "grid_template_columns": null,
            "grid_template_rows": null,
            "height": null,
            "justify_content": null,
            "justify_items": null,
            "left": null,
            "margin": null,
            "max_height": null,
            "max_width": null,
            "min_height": null,
            "min_width": null,
            "object_fit": null,
            "object_position": null,
            "order": null,
            "overflow": null,
            "overflow_x": null,
            "overflow_y": null,
            "padding": null,
            "right": null,
            "top": null,
            "visibility": null,
            "width": null
          }
        },
        "566cedfb9d764e28a8dc20871f16448f": {
          "model_module": "@jupyter-widgets/controls",
          "model_name": "ProgressStyleModel",
          "model_module_version": "1.5.0",
          "state": {
            "_model_module": "@jupyter-widgets/controls",
            "_model_module_version": "1.5.0",
            "_model_name": "ProgressStyleModel",
            "_view_count": null,
            "_view_module": "@jupyter-widgets/base",
            "_view_module_version": "1.2.0",
            "_view_name": "StyleView",
            "bar_color": null,
            "description_width": ""
          }
        },
        "ab8ec15c3e8d429a9d8e106723c8b163": {
          "model_module": "@jupyter-widgets/base",
          "model_name": "LayoutModel",
          "model_module_version": "1.2.0",
          "state": {
            "_model_module": "@jupyter-widgets/base",
            "_model_module_version": "1.2.0",
            "_model_name": "LayoutModel",
            "_view_count": null,
            "_view_module": "@jupyter-widgets/base",
            "_view_module_version": "1.2.0",
            "_view_name": "LayoutView",
            "align_content": null,
            "align_items": null,
            "align_self": null,
            "border": null,
            "bottom": null,
            "display": null,
            "flex": null,
            "flex_flow": null,
            "grid_area": null,
            "grid_auto_columns": null,
            "grid_auto_flow": null,
            "grid_auto_rows": null,
            "grid_column": null,
            "grid_gap": null,
            "grid_row": null,
            "grid_template_areas": null,
            "grid_template_columns": null,
            "grid_template_rows": null,
            "height": null,
            "justify_content": null,
            "justify_items": null,
            "left": null,
            "margin": null,
            "max_height": null,
            "max_width": null,
            "min_height": null,
            "min_width": null,
            "object_fit": null,
            "object_position": null,
            "order": null,
            "overflow": null,
            "overflow_x": null,
            "overflow_y": null,
            "padding": null,
            "right": null,
            "top": null,
            "visibility": null,
            "width": null
          }
        },
        "1cc839572d0e4d49a5cf85c0bb2c40c3": {
          "model_module": "@jupyter-widgets/controls",
          "model_name": "DescriptionStyleModel",
          "model_module_version": "1.5.0",
          "state": {
            "_model_module": "@jupyter-widgets/controls",
            "_model_module_version": "1.5.0",
            "_model_name": "DescriptionStyleModel",
            "_view_count": null,
            "_view_module": "@jupyter-widgets/base",
            "_view_module_version": "1.2.0",
            "_view_name": "StyleView",
            "description_width": ""
          }
        },
        "3e838453d352425e8afa948d4e0d9725": {
          "model_module": "@jupyter-widgets/controls",
          "model_name": "HBoxModel",
          "model_module_version": "1.5.0",
          "state": {
            "_dom_classes": [],
            "_model_module": "@jupyter-widgets/controls",
            "_model_module_version": "1.5.0",
            "_model_name": "HBoxModel",
            "_view_count": null,
            "_view_module": "@jupyter-widgets/controls",
            "_view_module_version": "1.5.0",
            "_view_name": "HBoxView",
            "box_style": "",
            "children": [
              "IPY_MODEL_f35e3c8fa1384e6bbd1c031881a59492",
              "IPY_MODEL_2eaea1a0258d44c2979bfc6624de9e56",
              "IPY_MODEL_22bb009fb54b4e54abd21b3a86229824"
            ],
            "layout": "IPY_MODEL_3d9a90e28e87427c8535718f64c201df"
          }
        },
        "f35e3c8fa1384e6bbd1c031881a59492": {
          "model_module": "@jupyter-widgets/controls",
          "model_name": "HTMLModel",
          "model_module_version": "1.5.0",
          "state": {
            "_dom_classes": [],
            "_model_module": "@jupyter-widgets/controls",
            "_model_module_version": "1.5.0",
            "_model_name": "HTMLModel",
            "_view_count": null,
            "_view_module": "@jupyter-widgets/controls",
            "_view_module_version": "1.5.0",
            "_view_name": "HTMLView",
            "description": "",
            "description_tooltip": null,
            "layout": "IPY_MODEL_9668ac9487ee417caf5e0c13912edfbd",
            "placeholder": "​",
            "style": "IPY_MODEL_76678a075d16479db50c9f5ceb958edc",
            "value": "100%"
          }
        },
        "2eaea1a0258d44c2979bfc6624de9e56": {
          "model_module": "@jupyter-widgets/controls",
          "model_name": "FloatProgressModel",
          "model_module_version": "1.5.0",
          "state": {
            "_dom_classes": [],
            "_model_module": "@jupyter-widgets/controls",
            "_model_module_version": "1.5.0",
            "_model_name": "FloatProgressModel",
            "_view_count": null,
            "_view_module": "@jupyter-widgets/controls",
            "_view_module_version": "1.5.0",
            "_view_name": "ProgressView",
            "bar_style": "success",
            "description": "",
            "description_tooltip": null,
            "layout": "IPY_MODEL_6881b98c875e4214b1d7172b35cb67aa",
            "max": 220100,
            "min": 0,
            "orientation": "horizontal",
            "style": "IPY_MODEL_ef808e4d2bed4b42bfd1e2099d6e7072",
            "value": 220100
          }
        },
        "22bb009fb54b4e54abd21b3a86229824": {
          "model_module": "@jupyter-widgets/controls",
          "model_name": "HTMLModel",
          "model_module_version": "1.5.0",
          "state": {
            "_dom_classes": [],
            "_model_module": "@jupyter-widgets/controls",
            "_model_module_version": "1.5.0",
            "_model_name": "HTMLModel",
            "_view_count": null,
            "_view_module": "@jupyter-widgets/controls",
            "_view_module_version": "1.5.0",
            "_view_name": "HTMLView",
            "description": "",
            "description_tooltip": null,
            "layout": "IPY_MODEL_f5091f11dcc2489da4ce1a721e251339",
            "placeholder": "​",
            "style": "IPY_MODEL_a4d943eae67c4590926ea317d0a59aa3",
            "value": " 220100/220100 [01:11&lt;00:00, 12980.74it/s]"
          }
        },
        "3d9a90e28e87427c8535718f64c201df": {
          "model_module": "@jupyter-widgets/base",
          "model_name": "LayoutModel",
          "model_module_version": "1.2.0",
          "state": {
            "_model_module": "@jupyter-widgets/base",
            "_model_module_version": "1.2.0",
            "_model_name": "LayoutModel",
            "_view_count": null,
            "_view_module": "@jupyter-widgets/base",
            "_view_module_version": "1.2.0",
            "_view_name": "LayoutView",
            "align_content": null,
            "align_items": null,
            "align_self": null,
            "border": null,
            "bottom": null,
            "display": null,
            "flex": null,
            "flex_flow": null,
            "grid_area": null,
            "grid_auto_columns": null,
            "grid_auto_flow": null,
            "grid_auto_rows": null,
            "grid_column": null,
            "grid_gap": null,
            "grid_row": null,
            "grid_template_areas": null,
            "grid_template_columns": null,
            "grid_template_rows": null,
            "height": null,
            "justify_content": null,
            "justify_items": null,
            "left": null,
            "margin": null,
            "max_height": null,
            "max_width": null,
            "min_height": null,
            "min_width": null,
            "object_fit": null,
            "object_position": null,
            "order": null,
            "overflow": null,
            "overflow_x": null,
            "overflow_y": null,
            "padding": null,
            "right": null,
            "top": null,
            "visibility": null,
            "width": null
          }
        },
        "9668ac9487ee417caf5e0c13912edfbd": {
          "model_module": "@jupyter-widgets/base",
          "model_name": "LayoutModel",
          "model_module_version": "1.2.0",
          "state": {
            "_model_module": "@jupyter-widgets/base",
            "_model_module_version": "1.2.0",
            "_model_name": "LayoutModel",
            "_view_count": null,
            "_view_module": "@jupyter-widgets/base",
            "_view_module_version": "1.2.0",
            "_view_name": "LayoutView",
            "align_content": null,
            "align_items": null,
            "align_self": null,
            "border": null,
            "bottom": null,
            "display": null,
            "flex": null,
            "flex_flow": null,
            "grid_area": null,
            "grid_auto_columns": null,
            "grid_auto_flow": null,
            "grid_auto_rows": null,
            "grid_column": null,
            "grid_gap": null,
            "grid_row": null,
            "grid_template_areas": null,
            "grid_template_columns": null,
            "grid_template_rows": null,
            "height": null,
            "justify_content": null,
            "justify_items": null,
            "left": null,
            "margin": null,
            "max_height": null,
            "max_width": null,
            "min_height": null,
            "min_width": null,
            "object_fit": null,
            "object_position": null,
            "order": null,
            "overflow": null,
            "overflow_x": null,
            "overflow_y": null,
            "padding": null,
            "right": null,
            "top": null,
            "visibility": null,
            "width": null
          }
        },
        "76678a075d16479db50c9f5ceb958edc": {
          "model_module": "@jupyter-widgets/controls",
          "model_name": "DescriptionStyleModel",
          "model_module_version": "1.5.0",
          "state": {
            "_model_module": "@jupyter-widgets/controls",
            "_model_module_version": "1.5.0",
            "_model_name": "DescriptionStyleModel",
            "_view_count": null,
            "_view_module": "@jupyter-widgets/base",
            "_view_module_version": "1.2.0",
            "_view_name": "StyleView",
            "description_width": ""
          }
        },
        "6881b98c875e4214b1d7172b35cb67aa": {
          "model_module": "@jupyter-widgets/base",
          "model_name": "LayoutModel",
          "model_module_version": "1.2.0",
          "state": {
            "_model_module": "@jupyter-widgets/base",
            "_model_module_version": "1.2.0",
            "_model_name": "LayoutModel",
            "_view_count": null,
            "_view_module": "@jupyter-widgets/base",
            "_view_module_version": "1.2.0",
            "_view_name": "LayoutView",
            "align_content": null,
            "align_items": null,
            "align_self": null,
            "border": null,
            "bottom": null,
            "display": null,
            "flex": null,
            "flex_flow": null,
            "grid_area": null,
            "grid_auto_columns": null,
            "grid_auto_flow": null,
            "grid_auto_rows": null,
            "grid_column": null,
            "grid_gap": null,
            "grid_row": null,
            "grid_template_areas": null,
            "grid_template_columns": null,
            "grid_template_rows": null,
            "height": null,
            "justify_content": null,
            "justify_items": null,
            "left": null,
            "margin": null,
            "max_height": null,
            "max_width": null,
            "min_height": null,
            "min_width": null,
            "object_fit": null,
            "object_position": null,
            "order": null,
            "overflow": null,
            "overflow_x": null,
            "overflow_y": null,
            "padding": null,
            "right": null,
            "top": null,
            "visibility": null,
            "width": null
          }
        },
        "ef808e4d2bed4b42bfd1e2099d6e7072": {
          "model_module": "@jupyter-widgets/controls",
          "model_name": "ProgressStyleModel",
          "model_module_version": "1.5.0",
          "state": {
            "_model_module": "@jupyter-widgets/controls",
            "_model_module_version": "1.5.0",
            "_model_name": "ProgressStyleModel",
            "_view_count": null,
            "_view_module": "@jupyter-widgets/base",
            "_view_module_version": "1.2.0",
            "_view_name": "StyleView",
            "bar_color": null,
            "description_width": ""
          }
        },
        "f5091f11dcc2489da4ce1a721e251339": {
          "model_module": "@jupyter-widgets/base",
          "model_name": "LayoutModel",
          "model_module_version": "1.2.0",
          "state": {
            "_model_module": "@jupyter-widgets/base",
            "_model_module_version": "1.2.0",
            "_model_name": "LayoutModel",
            "_view_count": null,
            "_view_module": "@jupyter-widgets/base",
            "_view_module_version": "1.2.0",
            "_view_name": "LayoutView",
            "align_content": null,
            "align_items": null,
            "align_self": null,
            "border": null,
            "bottom": null,
            "display": null,
            "flex": null,
            "flex_flow": null,
            "grid_area": null,
            "grid_auto_columns": null,
            "grid_auto_flow": null,
            "grid_auto_rows": null,
            "grid_column": null,
            "grid_gap": null,
            "grid_row": null,
            "grid_template_areas": null,
            "grid_template_columns": null,
            "grid_template_rows": null,
            "height": null,
            "justify_content": null,
            "justify_items": null,
            "left": null,
            "margin": null,
            "max_height": null,
            "max_width": null,
            "min_height": null,
            "min_width": null,
            "object_fit": null,
            "object_position": null,
            "order": null,
            "overflow": null,
            "overflow_x": null,
            "overflow_y": null,
            "padding": null,
            "right": null,
            "top": null,
            "visibility": null,
            "width": null
          }
        },
        "a4d943eae67c4590926ea317d0a59aa3": {
          "model_module": "@jupyter-widgets/controls",
          "model_name": "DescriptionStyleModel",
          "model_module_version": "1.5.0",
          "state": {
            "_model_module": "@jupyter-widgets/controls",
            "_model_module_version": "1.5.0",
            "_model_name": "DescriptionStyleModel",
            "_view_count": null,
            "_view_module": "@jupyter-widgets/base",
            "_view_module_version": "1.2.0",
            "_view_name": "StyleView",
            "description_width": ""
          }
        }
      }
    }
  },
  "cells": [
    {
      "cell_type": "markdown",
      "metadata": {
        "id": "view-in-github",
        "colab_type": "text"
      },
      "source": [
        "<a href=\"https://colab.research.google.com/github/alighasemi78/persian_paraphraser/blob/main/creating_fa_t5_base.ipynb\" target=\"_parent\"><img src=\"https://colab.research.google.com/assets/colab-badge.svg\" alt=\"Open In Colab\"/></a>"
      ]
    },
    {
      "cell_type": "markdown",
      "source": [
        "# Creating fa-t5-base"
      ],
      "metadata": {
        "id": "Mf1hJePAtqbu"
      }
    },
    {
      "cell_type": "markdown",
      "source": [
        "In this notebook, I will adapt the [google/mt5-base](https://huggingface.co/google/mt5-base) for Farsi."
      ],
      "metadata": {
        "id": "yOKGSS6ots_N"
      }
    },
    {
      "cell_type": "markdown",
      "source": [
        "## Installing the Required Libraries"
      ],
      "metadata": {
        "id": "qPjTHZOLuRco"
      }
    },
    {
      "cell_type": "code",
      "source": [
        "!pip install transformers sentencepiece"
      ],
      "metadata": {
        "colab": {
          "base_uri": "https://localhost:8080/"
        },
        "id": "259k0ABTuQ2g",
        "outputId": "54c11d55-ad5d-4f1b-ac8c-60d67ce9baf1"
      },
      "execution_count": null,
      "outputs": [
        {
          "output_type": "stream",
          "name": "stdout",
          "text": [
            "Looking in indexes: https://pypi.org/simple, https://us-python.pkg.dev/colab-wheels/public/simple/\n",
            "Requirement already satisfied: transformers in /usr/local/lib/python3.8/dist-packages (4.25.1)\n",
            "Requirement already satisfied: sentencepiece in /usr/local/lib/python3.8/dist-packages (0.1.97)\n",
            "Requirement already satisfied: tokenizers!=0.11.3,<0.14,>=0.11.1 in /usr/local/lib/python3.8/dist-packages (from transformers) (0.13.2)\n",
            "Requirement already satisfied: filelock in /usr/local/lib/python3.8/dist-packages (from transformers) (3.8.0)\n",
            "Requirement already satisfied: tqdm>=4.27 in /usr/local/lib/python3.8/dist-packages (from transformers) (4.64.1)\n",
            "Requirement already satisfied: huggingface-hub<1.0,>=0.10.0 in /usr/local/lib/python3.8/dist-packages (from transformers) (0.11.1)\n",
            "Requirement already satisfied: numpy>=1.17 in /usr/local/lib/python3.8/dist-packages (from transformers) (1.21.6)\n",
            "Requirement already satisfied: pyyaml>=5.1 in /usr/local/lib/python3.8/dist-packages (from transformers) (6.0)\n",
            "Requirement already satisfied: requests in /usr/local/lib/python3.8/dist-packages (from transformers) (2.23.0)\n",
            "Requirement already satisfied: packaging>=20.0 in /usr/local/lib/python3.8/dist-packages (from transformers) (21.3)\n",
            "Requirement already satisfied: regex!=2019.12.17 in /usr/local/lib/python3.8/dist-packages (from transformers) (2022.6.2)\n",
            "Requirement already satisfied: typing-extensions>=3.7.4.3 in /usr/local/lib/python3.8/dist-packages (from huggingface-hub<1.0,>=0.10.0->transformers) (4.4.0)\n",
            "Requirement already satisfied: pyparsing!=3.0.5,>=2.0.2 in /usr/local/lib/python3.8/dist-packages (from packaging>=20.0->transformers) (3.0.9)\n",
            "Requirement already satisfied: idna<3,>=2.5 in /usr/local/lib/python3.8/dist-packages (from requests->transformers) (2.10)\n",
            "Requirement already satisfied: urllib3!=1.25.0,!=1.25.1,<1.26,>=1.21.1 in /usr/local/lib/python3.8/dist-packages (from requests->transformers) (1.24.3)\n",
            "Requirement already satisfied: chardet<4,>=3.0.2 in /usr/local/lib/python3.8/dist-packages (from requests->transformers) (3.0.4)\n",
            "Requirement already satisfied: certifi>=2017.4.17 in /usr/local/lib/python3.8/dist-packages (from requests->transformers) (2022.9.24)\n"
          ]
        }
      ]
    },
    {
      "cell_type": "markdown",
      "source": [
        "## Importing the Required Libraries"
      ],
      "metadata": {
        "id": "jlHjmjpJuUaI"
      }
    },
    {
      "cell_type": "code",
      "source": [
        "from google.colab import drive\n",
        "from transformers import T5ForConditionalGeneration, T5Tokenizer\n",
        "import pandas as pd\n",
        "import csv\n",
        "from collections import Counter\n",
        "from tqdm.auto import tqdm, trange\n",
        "import matplotlib.pyplot as plt\n",
        "import torch"
      ],
      "metadata": {
        "id": "anxgH0IHuWcR"
      },
      "execution_count": null,
      "outputs": []
    },
    {
      "cell_type": "markdown",
      "source": [
        "## Connecting to Google Drive"
      ],
      "metadata": {
        "id": "q03HaminuJip"
      }
    },
    {
      "cell_type": "code",
      "execution_count": null,
      "metadata": {
        "colab": {
          "base_uri": "https://localhost:8080/"
        },
        "id": "WKDHsMFttddf",
        "outputId": "2cdfbe65-8e9b-4983-a20f-e70afa144c54"
      },
      "outputs": [
        {
          "output_type": "stream",
          "name": "stdout",
          "text": [
            "Drive already mounted at /content/gd; to attempt to forcibly remount, call drive.mount(\"/content/gd\", force_remount=True).\n"
          ]
        }
      ],
      "source": [
        "drive.mount('/content/gd')"
      ]
    },
    {
      "cell_type": "markdown",
      "source": [
        "## MT5 Model"
      ],
      "metadata": {
        "id": "JlGG7fknvf6c"
      }
    },
    {
      "cell_type": "code",
      "source": [
        "model = T5ForConditionalGeneration.from_pretrained('google/mt5-base')\n",
        "tokenizer = T5Tokenizer.from_pretrained(\"google/mt5-base\")"
      ],
      "metadata": {
        "colab": {
          "base_uri": "https://localhost:8080/"
        },
        "id": "Issrhd7ovLOx",
        "outputId": "7a030b58-96e1-4128-ef9a-9f5623c09ac2"
      },
      "execution_count": null,
      "outputs": [
        {
          "output_type": "stream",
          "name": "stderr",
          "text": [
            "You are using a model of type mt5 to instantiate a model of type t5. This is not supported for all configurations of models and can yield errors.\n"
          ]
        }
      ]
    },
    {
      "cell_type": "markdown",
      "source": [
        "The tokenizer contains over 250K tokens."
      ],
      "metadata": {
        "id": "RENfjupD4jmW"
      }
    },
    {
      "cell_type": "code",
      "source": [
        "tokenizer.vocab_size"
      ],
      "metadata": {
        "colab": {
          "base_uri": "https://localhost:8080/"
        },
        "id": "0XTnYw1I4lPU",
        "outputId": "5a5e4765-5c54-432e-b192-0464813b1d00"
      },
      "execution_count": null,
      "outputs": [
        {
          "output_type": "execute_result",
          "data": {
            "text/plain": [
              "250100"
            ]
          },
          "metadata": {},
          "execution_count": 5
        }
      ]
    },
    {
      "cell_type": "markdown",
      "source": [
        "The model has over 582M parameters."
      ],
      "metadata": {
        "id": "l9H9opDs4qwk"
      }
    },
    {
      "cell_type": "code",
      "source": [
        "def msize(m):\n",
        "    return sum(p.numel() for p in m.parameters())\n",
        "\n",
        "original_size = msize(model)\n",
        "print(msize(model))\n",
        "print(msize(model.shared))\n",
        "print('encoder')\n",
        "print(msize(model.encoder))\n",
        "print(msize(model.encoder.block))\n",
        "print('decoder')\n",
        "print(msize(model.decoder))\n",
        "print(msize(model.decoder.block))\n",
        "print(msize(model.lm_head))"
      ],
      "metadata": {
        "colab": {
          "base_uri": "https://localhost:8080/"
        },
        "id": "7jILxwUe4VGP",
        "outputId": "de67cadd-2acb-4bcd-8334-fbf0e5480f36"
      },
      "execution_count": null,
      "outputs": [
        {
          "output_type": "stream",
          "name": "stdout",
          "text": [
            "582401280\n",
            "192086016\n",
            "encoder\n",
            "277040256\n",
            "84953472\n",
            "decoder\n",
            "305361024\n",
            "113274240\n",
            "192086016\n"
          ]
        }
      ]
    },
    {
      "cell_type": "markdown",
      "source": [
        "## Determine Language-Specific Tokens"
      ],
      "metadata": {
        "id": "hQHuowZMwMIA"
      }
    },
    {
      "cell_type": "markdown",
      "source": [
        "In order to find the tokens for Farsi, we need a huge Farsi corpus with compare to the model and find the similar tokens. You can download [this](https://downloads.wortschatz-leipzig.de/corpora/fas-ir_web-public_2019_1M.tar.gz) file which contains 1M Farsi sentences.\n",
        "Moreover, there may be some English words in Farsi Sentences. We don't want to miss them. So we also need an English corpus to do the same thing with English. Then we can choose a percentage of our model to have English tokens. You can download [this](https://downloads.wortschatz-leipzig.de/corpora/eng-com_web-public_2018_1M.tar.gz) file which contains 1M English sentences."
      ],
      "metadata": {
        "id": "SI8f2-H2waIn"
      }
    },
    {
      "cell_type": "markdown",
      "source": [
        "### Farsi Dataset"
      ],
      "metadata": {
        "id": "BBnuLBLHyAoX"
      }
    },
    {
      "cell_type": "code",
      "source": [
        "dataset_path = \"/content/gd/MyDrive/Undergraduate Studies/Semester 9/Computer Engineering Project/Adapting MT5 model for Farsi/fas-ir_web-public_2019_1M-sentences.txt\"\n",
        "farsi_dataset = pd.read_csv(dataset_path, sep='\\t', header=None, quoting=csv.QUOTE_NONE)\n",
        "farsi_dataset.columns = ['idx', 'text']"
      ],
      "metadata": {
        "id": "wWxj5JsYwZkG"
      },
      "execution_count": null,
      "outputs": []
    },
    {
      "cell_type": "code",
      "source": [
        "farsi_dataset"
      ],
      "metadata": {
        "colab": {
          "base_uri": "https://localhost:8080/",
          "height": 424
        },
        "id": "z82zitLGyelQ",
        "outputId": "3d315836-86cc-494d-a489-d9a0fc147658"
      },
      "execution_count": null,
      "outputs": [
        {
          "output_type": "execute_result",
          "data": {
            "text/plain": [
              "            idx                                               text\n",
              "0             1  ۰۰۰ (پانصدهزار) ریال به شماره حساب ۲۱۷۲۳۴۳۵۰۱۰...\n",
              "1             2  ۰۰۰تن لاستیک تولید میکند که از این مقدار با رش...\n",
              "2             3                                 ۰۰۰ تومان بجای ۹۰.\n",
              "3             4    ۰۰۰ تومان/ سیگنال سیاسی بر بازار ارز اثر گذاشت؟\n",
              "4             5               ۰۰۰ تومانی قیمت گوشت قرمز/ خطر کاهش…\n",
              "...         ...                                                ...\n",
              "999995   999996  ييلاق و قشلاق است بيرون و درون است گاهی آنجا و...\n",
              "999996   999997             ڪے شود حــر شوم و توبهـ ے مردانهـ ڪنم.\n",
              "999997   999998  Χ عوارض و موارد احتیاط: استفاده از این گیاه بر...\n",
              "999998   999999  Официальный сайт великого аятоллы Макарема Шир...\n",
              "999999  1000000  ღیه کوچولو و آقاییشكلا از خوندن اين پست مفرح ش...\n",
              "\n",
              "[1000000 rows x 2 columns]"
            ],
            "text/html": [
              "\n",
              "  <div id=\"df-f5b512df-94ee-4969-abfd-e35475911042\">\n",
              "    <div class=\"colab-df-container\">\n",
              "      <div>\n",
              "<style scoped>\n",
              "    .dataframe tbody tr th:only-of-type {\n",
              "        vertical-align: middle;\n",
              "    }\n",
              "\n",
              "    .dataframe tbody tr th {\n",
              "        vertical-align: top;\n",
              "    }\n",
              "\n",
              "    .dataframe thead th {\n",
              "        text-align: right;\n",
              "    }\n",
              "</style>\n",
              "<table border=\"1\" class=\"dataframe\">\n",
              "  <thead>\n",
              "    <tr style=\"text-align: right;\">\n",
              "      <th></th>\n",
              "      <th>idx</th>\n",
              "      <th>text</th>\n",
              "    </tr>\n",
              "  </thead>\n",
              "  <tbody>\n",
              "    <tr>\n",
              "      <th>0</th>\n",
              "      <td>1</td>\n",
              "      <td>۰۰۰ (پانصدهزار) ریال به شماره حساب ۲۱۷۲۳۴۳۵۰۱۰...</td>\n",
              "    </tr>\n",
              "    <tr>\n",
              "      <th>1</th>\n",
              "      <td>2</td>\n",
              "      <td>۰۰۰تن لاستیک تولید میکند که از این مقدار با رش...</td>\n",
              "    </tr>\n",
              "    <tr>\n",
              "      <th>2</th>\n",
              "      <td>3</td>\n",
              "      <td>۰۰۰ تومان بجای ۹۰.</td>\n",
              "    </tr>\n",
              "    <tr>\n",
              "      <th>3</th>\n",
              "      <td>4</td>\n",
              "      <td>۰۰۰ تومان/ سیگنال سیاسی بر بازار ارز اثر گذاشت؟</td>\n",
              "    </tr>\n",
              "    <tr>\n",
              "      <th>4</th>\n",
              "      <td>5</td>\n",
              "      <td>۰۰۰ تومانی قیمت گوشت قرمز/ خطر کاهش…</td>\n",
              "    </tr>\n",
              "    <tr>\n",
              "      <th>...</th>\n",
              "      <td>...</td>\n",
              "      <td>...</td>\n",
              "    </tr>\n",
              "    <tr>\n",
              "      <th>999995</th>\n",
              "      <td>999996</td>\n",
              "      <td>ييلاق و قشلاق است بيرون و درون است گاهی آنجا و...</td>\n",
              "    </tr>\n",
              "    <tr>\n",
              "      <th>999996</th>\n",
              "      <td>999997</td>\n",
              "      <td>ڪے شود حــر شوم و توبهـ ے مردانهـ ڪنم.</td>\n",
              "    </tr>\n",
              "    <tr>\n",
              "      <th>999997</th>\n",
              "      <td>999998</td>\n",
              "      <td>Χ عوارض و موارد احتیاط: استفاده از این گیاه بر...</td>\n",
              "    </tr>\n",
              "    <tr>\n",
              "      <th>999998</th>\n",
              "      <td>999999</td>\n",
              "      <td>Официальный сайт великого аятоллы Макарема Шир...</td>\n",
              "    </tr>\n",
              "    <tr>\n",
              "      <th>999999</th>\n",
              "      <td>1000000</td>\n",
              "      <td>ღیه کوچولو و آقاییشكلا از خوندن اين پست مفرح ش...</td>\n",
              "    </tr>\n",
              "  </tbody>\n",
              "</table>\n",
              "<p>1000000 rows × 2 columns</p>\n",
              "</div>\n",
              "      <button class=\"colab-df-convert\" onclick=\"convertToInteractive('df-f5b512df-94ee-4969-abfd-e35475911042')\"\n",
              "              title=\"Convert this dataframe to an interactive table.\"\n",
              "              style=\"display:none;\">\n",
              "        \n",
              "  <svg xmlns=\"http://www.w3.org/2000/svg\" height=\"24px\"viewBox=\"0 0 24 24\"\n",
              "       width=\"24px\">\n",
              "    <path d=\"M0 0h24v24H0V0z\" fill=\"none\"/>\n",
              "    <path d=\"M18.56 5.44l.94 2.06.94-2.06 2.06-.94-2.06-.94-.94-2.06-.94 2.06-2.06.94zm-11 1L8.5 8.5l.94-2.06 2.06-.94-2.06-.94L8.5 2.5l-.94 2.06-2.06.94zm10 10l.94 2.06.94-2.06 2.06-.94-2.06-.94-.94-2.06-.94 2.06-2.06.94z\"/><path d=\"M17.41 7.96l-1.37-1.37c-.4-.4-.92-.59-1.43-.59-.52 0-1.04.2-1.43.59L10.3 9.45l-7.72 7.72c-.78.78-.78 2.05 0 2.83L4 21.41c.39.39.9.59 1.41.59.51 0 1.02-.2 1.41-.59l7.78-7.78 2.81-2.81c.8-.78.8-2.07 0-2.86zM5.41 20L4 18.59l7.72-7.72 1.47 1.35L5.41 20z\"/>\n",
              "  </svg>\n",
              "      </button>\n",
              "      \n",
              "  <style>\n",
              "    .colab-df-container {\n",
              "      display:flex;\n",
              "      flex-wrap:wrap;\n",
              "      gap: 12px;\n",
              "    }\n",
              "\n",
              "    .colab-df-convert {\n",
              "      background-color: #E8F0FE;\n",
              "      border: none;\n",
              "      border-radius: 50%;\n",
              "      cursor: pointer;\n",
              "      display: none;\n",
              "      fill: #1967D2;\n",
              "      height: 32px;\n",
              "      padding: 0 0 0 0;\n",
              "      width: 32px;\n",
              "    }\n",
              "\n",
              "    .colab-df-convert:hover {\n",
              "      background-color: #E2EBFA;\n",
              "      box-shadow: 0px 1px 2px rgba(60, 64, 67, 0.3), 0px 1px 3px 1px rgba(60, 64, 67, 0.15);\n",
              "      fill: #174EA6;\n",
              "    }\n",
              "\n",
              "    [theme=dark] .colab-df-convert {\n",
              "      background-color: #3B4455;\n",
              "      fill: #D2E3FC;\n",
              "    }\n",
              "\n",
              "    [theme=dark] .colab-df-convert:hover {\n",
              "      background-color: #434B5C;\n",
              "      box-shadow: 0px 1px 3px 1px rgba(0, 0, 0, 0.15);\n",
              "      filter: drop-shadow(0px 1px 2px rgba(0, 0, 0, 0.3));\n",
              "      fill: #FFFFFF;\n",
              "    }\n",
              "  </style>\n",
              "\n",
              "      <script>\n",
              "        const buttonEl =\n",
              "          document.querySelector('#df-f5b512df-94ee-4969-abfd-e35475911042 button.colab-df-convert');\n",
              "        buttonEl.style.display =\n",
              "          google.colab.kernel.accessAllowed ? 'block' : 'none';\n",
              "\n",
              "        async function convertToInteractive(key) {\n",
              "          const element = document.querySelector('#df-f5b512df-94ee-4969-abfd-e35475911042');\n",
              "          const dataTable =\n",
              "            await google.colab.kernel.invokeFunction('convertToInteractive',\n",
              "                                                     [key], {});\n",
              "          if (!dataTable) return;\n",
              "\n",
              "          const docLinkHtml = 'Like what you see? Visit the ' +\n",
              "            '<a target=\"_blank\" href=https://colab.research.google.com/notebooks/data_table.ipynb>data table notebook</a>'\n",
              "            + ' to learn more about interactive tables.';\n",
              "          element.innerHTML = '';\n",
              "          dataTable['output_type'] = 'display_data';\n",
              "          await google.colab.output.renderOutput(dataTable, element);\n",
              "          const docLink = document.createElement('div');\n",
              "          docLink.innerHTML = docLinkHtml;\n",
              "          element.appendChild(docLink);\n",
              "        }\n",
              "      </script>\n",
              "    </div>\n",
              "  </div>\n",
              "  "
            ]
          },
          "metadata": {},
          "execution_count": 8
        }
      ]
    },
    {
      "cell_type": "markdown",
      "source": [
        "### English Dataset"
      ],
      "metadata": {
        "id": "HSk3G76GyrBE"
      }
    },
    {
      "cell_type": "code",
      "source": [
        "dataset_path = \"/content/gd/MyDrive/Undergraduate Studies/Semester 9/Computer Engineering Project/Adapting MT5 model for Farsi/eng-com_web-public_2018_1M-sentences.txt\"\n",
        "english_dataset = pd.read_csv(dataset_path, sep='\\t', header=None, quoting=csv.QUOTE_NONE)\n",
        "english_dataset.columns = ['idx', 'text']"
      ],
      "metadata": {
        "id": "KHMGKttTygBX"
      },
      "execution_count": null,
      "outputs": []
    },
    {
      "cell_type": "code",
      "source": [
        "english_dataset"
      ],
      "metadata": {
        "colab": {
          "base_uri": "https://localhost:8080/",
          "height": 424
        },
        "id": "CyeUKEr6yy2H",
        "outputId": "0e8d5bdb-3090-4597-963f-ff85773ae53a"
      },
      "execution_count": null,
      "outputs": [
        {
          "output_type": "execute_result",
          "data": {
            "text/plain": [
              "            idx                                               text\n",
              "0             1               “0 percent interest!” the ads blare.\n",
              "1             2  $0 to $10,000 for married couples filing separ...\n",
              "2             3  $1,000,000 - A new millionaire in the Capitale...\n",
              "3             4  $10,000 to help support two regional youth con...\n",
              "4             5  $100 daily prizes and grand prize of $1,000 wi...\n",
              "...         ...                                                ...\n",
              "999995   999996          身為公司擁有人，您應該是 Google My Business 帳戶的主要擁有人。\n",
              "999996   999997  车辆检测器 - 线圈式车辆检测器 - 车辆检测器 - 产品 - SWARCO ITS We ...\n",
              "999997   999998  通过在页面配置（pom.xml 文件）中指定有效的 Google Cloud Analyti...\n",
              "999998   999999  通过访问 Visual Studio 在 Windows 上提供的你所熟悉和喜爱的相同的编译...\n",
              "999999  1000000  馃 Allow developers to create TWAs easily with...\n",
              "\n",
              "[1000000 rows x 2 columns]"
            ],
            "text/html": [
              "\n",
              "  <div id=\"df-dbdd05d5-8306-4a68-b615-c3a5626aadad\">\n",
              "    <div class=\"colab-df-container\">\n",
              "      <div>\n",
              "<style scoped>\n",
              "    .dataframe tbody tr th:only-of-type {\n",
              "        vertical-align: middle;\n",
              "    }\n",
              "\n",
              "    .dataframe tbody tr th {\n",
              "        vertical-align: top;\n",
              "    }\n",
              "\n",
              "    .dataframe thead th {\n",
              "        text-align: right;\n",
              "    }\n",
              "</style>\n",
              "<table border=\"1\" class=\"dataframe\">\n",
              "  <thead>\n",
              "    <tr style=\"text-align: right;\">\n",
              "      <th></th>\n",
              "      <th>idx</th>\n",
              "      <th>text</th>\n",
              "    </tr>\n",
              "  </thead>\n",
              "  <tbody>\n",
              "    <tr>\n",
              "      <th>0</th>\n",
              "      <td>1</td>\n",
              "      <td>“0 percent interest!” the ads blare.</td>\n",
              "    </tr>\n",
              "    <tr>\n",
              "      <th>1</th>\n",
              "      <td>2</td>\n",
              "      <td>$0 to $10,000 for married couples filing separ...</td>\n",
              "    </tr>\n",
              "    <tr>\n",
              "      <th>2</th>\n",
              "      <td>3</td>\n",
              "      <td>$1,000,000 - A new millionaire in the Capitale...</td>\n",
              "    </tr>\n",
              "    <tr>\n",
              "      <th>3</th>\n",
              "      <td>4</td>\n",
              "      <td>$10,000 to help support two regional youth con...</td>\n",
              "    </tr>\n",
              "    <tr>\n",
              "      <th>4</th>\n",
              "      <td>5</td>\n",
              "      <td>$100 daily prizes and grand prize of $1,000 wi...</td>\n",
              "    </tr>\n",
              "    <tr>\n",
              "      <th>...</th>\n",
              "      <td>...</td>\n",
              "      <td>...</td>\n",
              "    </tr>\n",
              "    <tr>\n",
              "      <th>999995</th>\n",
              "      <td>999996</td>\n",
              "      <td>身為公司擁有人，您應該是 Google My Business 帳戶的主要擁有人。</td>\n",
              "    </tr>\n",
              "    <tr>\n",
              "      <th>999996</th>\n",
              "      <td>999997</td>\n",
              "      <td>车辆检测器 - 线圈式车辆检测器 - 车辆检测器 - 产品 - SWARCO ITS We ...</td>\n",
              "    </tr>\n",
              "    <tr>\n",
              "      <th>999997</th>\n",
              "      <td>999998</td>\n",
              "      <td>通过在页面配置（pom.xml 文件）中指定有效的 Google Cloud Analyti...</td>\n",
              "    </tr>\n",
              "    <tr>\n",
              "      <th>999998</th>\n",
              "      <td>999999</td>\n",
              "      <td>通过访问 Visual Studio 在 Windows 上提供的你所熟悉和喜爱的相同的编译...</td>\n",
              "    </tr>\n",
              "    <tr>\n",
              "      <th>999999</th>\n",
              "      <td>1000000</td>\n",
              "      <td>馃 Allow developers to create TWAs easily with...</td>\n",
              "    </tr>\n",
              "  </tbody>\n",
              "</table>\n",
              "<p>1000000 rows × 2 columns</p>\n",
              "</div>\n",
              "      <button class=\"colab-df-convert\" onclick=\"convertToInteractive('df-dbdd05d5-8306-4a68-b615-c3a5626aadad')\"\n",
              "              title=\"Convert this dataframe to an interactive table.\"\n",
              "              style=\"display:none;\">\n",
              "        \n",
              "  <svg xmlns=\"http://www.w3.org/2000/svg\" height=\"24px\"viewBox=\"0 0 24 24\"\n",
              "       width=\"24px\">\n",
              "    <path d=\"M0 0h24v24H0V0z\" fill=\"none\"/>\n",
              "    <path d=\"M18.56 5.44l.94 2.06.94-2.06 2.06-.94-2.06-.94-.94-2.06-.94 2.06-2.06.94zm-11 1L8.5 8.5l.94-2.06 2.06-.94-2.06-.94L8.5 2.5l-.94 2.06-2.06.94zm10 10l.94 2.06.94-2.06 2.06-.94-2.06-.94-.94-2.06-.94 2.06-2.06.94z\"/><path d=\"M17.41 7.96l-1.37-1.37c-.4-.4-.92-.59-1.43-.59-.52 0-1.04.2-1.43.59L10.3 9.45l-7.72 7.72c-.78.78-.78 2.05 0 2.83L4 21.41c.39.39.9.59 1.41.59.51 0 1.02-.2 1.41-.59l7.78-7.78 2.81-2.81c.8-.78.8-2.07 0-2.86zM5.41 20L4 18.59l7.72-7.72 1.47 1.35L5.41 20z\"/>\n",
              "  </svg>\n",
              "      </button>\n",
              "      \n",
              "  <style>\n",
              "    .colab-df-container {\n",
              "      display:flex;\n",
              "      flex-wrap:wrap;\n",
              "      gap: 12px;\n",
              "    }\n",
              "\n",
              "    .colab-df-convert {\n",
              "      background-color: #E8F0FE;\n",
              "      border: none;\n",
              "      border-radius: 50%;\n",
              "      cursor: pointer;\n",
              "      display: none;\n",
              "      fill: #1967D2;\n",
              "      height: 32px;\n",
              "      padding: 0 0 0 0;\n",
              "      width: 32px;\n",
              "    }\n",
              "\n",
              "    .colab-df-convert:hover {\n",
              "      background-color: #E2EBFA;\n",
              "      box-shadow: 0px 1px 2px rgba(60, 64, 67, 0.3), 0px 1px 3px 1px rgba(60, 64, 67, 0.15);\n",
              "      fill: #174EA6;\n",
              "    }\n",
              "\n",
              "    [theme=dark] .colab-df-convert {\n",
              "      background-color: #3B4455;\n",
              "      fill: #D2E3FC;\n",
              "    }\n",
              "\n",
              "    [theme=dark] .colab-df-convert:hover {\n",
              "      background-color: #434B5C;\n",
              "      box-shadow: 0px 1px 3px 1px rgba(0, 0, 0, 0.15);\n",
              "      filter: drop-shadow(0px 1px 2px rgba(0, 0, 0, 0.3));\n",
              "      fill: #FFFFFF;\n",
              "    }\n",
              "  </style>\n",
              "\n",
              "      <script>\n",
              "        const buttonEl =\n",
              "          document.querySelector('#df-dbdd05d5-8306-4a68-b615-c3a5626aadad button.colab-df-convert');\n",
              "        buttonEl.style.display =\n",
              "          google.colab.kernel.accessAllowed ? 'block' : 'none';\n",
              "\n",
              "        async function convertToInteractive(key) {\n",
              "          const element = document.querySelector('#df-dbdd05d5-8306-4a68-b615-c3a5626aadad');\n",
              "          const dataTable =\n",
              "            await google.colab.kernel.invokeFunction('convertToInteractive',\n",
              "                                                     [key], {});\n",
              "          if (!dataTable) return;\n",
              "\n",
              "          const docLinkHtml = 'Like what you see? Visit the ' +\n",
              "            '<a target=\"_blank\" href=https://colab.research.google.com/notebooks/data_table.ipynb>data table notebook</a>'\n",
              "            + ' to learn more about interactive tables.';\n",
              "          element.innerHTML = '';\n",
              "          dataTable['output_type'] = 'display_data';\n",
              "          await google.colab.output.renderOutput(dataTable, element);\n",
              "          const docLink = document.createElement('div');\n",
              "          docLink.innerHTML = docLinkHtml;\n",
              "          element.appendChild(docLink);\n",
              "        }\n",
              "      </script>\n",
              "    </div>\n",
              "  </div>\n",
              "  "
            ]
          },
          "metadata": {},
          "execution_count": 10
        }
      ]
    },
    {
      "cell_type": "markdown",
      "source": [
        "### Counting the Tokens"
      ],
      "metadata": {
        "id": "8xnvB2LRzIAw"
      }
    },
    {
      "cell_type": "code",
      "source": [
        "cnt_fa = Counter()\n",
        "for text in tqdm(farsi_dataset.text):\n",
        "    cnt_fa.update(tokenizer.encode(text))\n",
        "\n",
        "cnt_en = Counter()\n",
        "for text in tqdm(english_dataset.text):\n",
        "    cnt_en.update(tokenizer.encode(text))"
      ],
      "metadata": {
        "colab": {
          "base_uri": "https://localhost:8080/",
          "height": 81,
          "referenced_widgets": [
            "5ec8ea4aa57b470795c400a4189e0103",
            "d5f8af0377464dc5b2b5e36b3e566462",
            "a042a7a748b0462ca9a72a34d3ef33ed",
            "b1f06341759c4cf1be45a4fb7b9543cf",
            "4fbfc0408a1f4f46a40e2739ccad2aa1",
            "7d93678ada2540358b4faf0b92efcc26",
            "1cc0c82fe4bc484c8bbff6f9874ae833",
            "64b6059b2645410c8f47fb55fd908cee",
            "59768a61fea343ab95e8e52eae999c37",
            "93dad58b420c46f596fbaafc658fad63",
            "309410ed90994340a21d844720f93356",
            "f2aae6a2aeec46c2bcfeaf7c82c83850",
            "1cb3b3faee564b37b72cbe3054124ee0",
            "72378d57a231437da0f32c5c86fd258b",
            "5f37caeb35634efbb42fffdb91d24ed9",
            "84642046fe1b4126b301743d40c8050b",
            "d5607071ce814f79b6d86acc1c6dc864",
            "2c21e9fc30da45dc8e90561ff000ffa8",
            "81439d2eb322472fa8cd3933e6d831af",
            "566cedfb9d764e28a8dc20871f16448f",
            "ab8ec15c3e8d429a9d8e106723c8b163",
            "1cc839572d0e4d49a5cf85c0bb2c40c3"
          ]
        },
        "id": "8iwDYZBYy2b8",
        "outputId": "b97a1d40-5c63-4795-bceb-4ace0e7915c4"
      },
      "execution_count": null,
      "outputs": [
        {
          "output_type": "display_data",
          "data": {
            "text/plain": [
              "  0%|          | 0/1000000 [00:00<?, ?it/s]"
            ],
            "application/vnd.jupyter.widget-view+json": {
              "version_major": 2,
              "version_minor": 0,
              "model_id": "5ec8ea4aa57b470795c400a4189e0103"
            }
          },
          "metadata": {}
        },
        {
          "output_type": "display_data",
          "data": {
            "text/plain": [
              "  0%|          | 0/1000000 [00:00<?, ?it/s]"
            ],
            "application/vnd.jupyter.widget-view+json": {
              "version_major": 2,
              "version_minor": 0,
              "model_id": "f2aae6a2aeec46c2bcfeaf7c82c83850"
            }
          },
          "metadata": {}
        }
      ]
    },
    {
      "cell_type": "markdown",
      "source": [
        "The tokens that are ever used with Farsi are about 13% of the whole vocabulary. With English, it is about 27%.\n",
        "\n",
        "Surprisingly, there is more than 70% overlap between the vocabularies. Perhaps, this is because in Farsi texts there are occasionally English words or other words with latin alphabet."
      ],
      "metadata": {
        "id": "H31P4kOU1qjZ"
      }
    },
    {
      "cell_type": "code",
      "source": [
        "print(len(cnt_fa), len(cnt_fa)/tokenizer.vocab_size)\n",
        "print(len(cnt_en), len(cnt_en)/tokenizer.vocab_size)\n",
        "common = len(set(cnt_fa.keys()).intersection(set(cnt_en.keys())))\n",
        "print(common, common / len(cnt_fa))"
      ],
      "metadata": {
        "colab": {
          "base_uri": "https://localhost:8080/"
        },
        "id": "EisramiGzYeG",
        "outputId": "ebe6e058-68aa-4ece-b9d3-2c0f03645bed"
      },
      "execution_count": null,
      "outputs": [
        {
          "output_type": "stream",
          "name": "stdout",
          "text": [
            "34423 0.13763694522191122\n",
            "67920 0.2715713714514194\n",
            "24472 0.7109200244022892\n"
          ]
        }
      ]
    },
    {
      "cell_type": "markdown",
      "source": [
        "For Farsi, 10K tokens cover about 99% of the vocabulary.\n",
        "\n",
        "For English, 10K tokens cover about 95% of the vocabulary, and 20K - about 99%."
      ],
      "metadata": {
        "id": "himicRal2IR0"
      }
    },
    {
      "cell_type": "code",
      "source": [
        "print('fa')\n",
        "for top in 10_000, 20_000, 30_000:\n",
        "    print(top, sum(v for k, v in cnt_fa.most_common(top)) / sum(cnt_fa.values()))\n",
        "print('en')\n",
        "for top in 10_000, 20_000, 30_000:\n",
        "    print(top, sum(v for k, v in cnt_en.most_common(top)) / sum(cnt_en.values()))"
      ],
      "metadata": {
        "colab": {
          "base_uri": "https://localhost:8080/"
        },
        "id": "RvNYkgHT1lCH",
        "outputId": "5a16b126-d701-4c6b-a843-27105189e06d"
      },
      "execution_count": null,
      "outputs": [
        {
          "output_type": "stream",
          "name": "stdout",
          "text": [
            "fa\n",
            "10000 0.9985717701883996\n",
            "20000 0.9995678215028926\n",
            "30000 0.9998857426483738\n",
            "en\n",
            "10000 0.9531899764307693\n",
            "20000 0.9840809828270257\n",
            "30000 0.9937869259525808\n"
          ]
        }
      ]
    },
    {
      "cell_type": "markdown",
      "source": [
        "Remember the old vocabulary, because we are going to replace it soon!"
      ],
      "metadata": {
        "id": "93IgdQjs2-og"
      }
    },
    {
      "cell_type": "code",
      "source": [
        "old_voc = tokenizer.get_vocab()\n",
        "old_inv_voc = {v: k for k, v in old_voc.items()}"
      ],
      "metadata": {
        "id": "2cca2T0R2ndc"
      },
      "execution_count": null,
      "outputs": []
    },
    {
      "cell_type": "markdown",
      "source": [
        "Look at the most used tokens. They are mostly service words or prefixes."
      ],
      "metadata": {
        "id": "Mt-2CQxr2i4m"
      }
    },
    {
      "cell_type": "code",
      "source": [
        "print(tokenizer.convert_ids_to_tokens([k for k, v in cnt_fa.most_common(30)]))\n",
        "print(tokenizer.convert_ids_to_tokens([k for k, v in cnt_en.most_common(30)]))"
      ],
      "metadata": {
        "colab": {
          "base_uri": "https://localhost:8080/"
        },
        "id": "fYcQB_Rt2Bx7",
        "outputId": "b0f20f4e-e938-420c-8b99-152ce8035602"
      },
      "execution_count": null,
      "outputs": [
        {
          "output_type": "stream",
          "name": "stdout",
          "text": [
            "['▁', '</s>', '▁و', '.', '▁در', 'ی', '▁به', 'ه', '،', '▁از', '▁که', '▁را', '▁این', '▁است', '▁می', '▁با', '▁م', 'م', '▁هم', 'های', '▁آن', 'ند', 'ت', 'ن', 'ها', 'ان', '▁بر', 'د', ':', 'برای']\n",
            "['▁', '</s>', '.', '▁the', ',', 's', '▁to', '▁and', 'a', '▁of', '▁in', '▁is', '▁I', '’', '▁that', 'ed', '▁for', '-', 'ing', \"'\", '▁you', '▁it', '▁with', '▁on', 'ly', 'y', '▁be', '▁The', '▁as', '▁are']\n"
          ]
        }
      ]
    },
    {
      "cell_type": "markdown",
      "source": [
        "## Choosing the New Tokens"
      ],
      "metadata": {
        "id": "Zva29EdY3Ix0"
      }
    },
    {
      "cell_type": "markdown",
      "source": [
        "We try the following composition of vocabulary:\n",
        "* 100 of top tokens of the original tokenizer (just in case)\n",
        "* Top 3K of the English vocabulary\n",
        "* Top 4K of the Farsi vocabulary (or more, to make the total number of tokens 7K)\n",
        "* 100 special tokens that T5 uses"
      ],
      "metadata": {
        "id": "EDxBjER93Oq0"
      }
    },
    {
      "cell_type": "code",
      "source": [
        "new_tokens = set(range(1000))\n",
        "for i, (k, v) in enumerate(cnt_en.most_common(10_000)):\n",
        "    if k not in new_tokens:\n",
        "        new_tokens.add(k)\n",
        "for i, (k, v) in enumerate(cnt_fa.most_common(25_000)):\n",
        "    if len(new_tokens) == 29_900:\n",
        "        print(i, 'Farsi tokens are included')\n",
        "        break\n",
        "    if k not in new_tokens:\n",
        "        new_tokens.add(k)\n",
        "\n",
        "for t in range(tokenizer.vocab_size - 100, tokenizer.vocab_size):\n",
        "    new_tokens.add(t)\n",
        "\n",
        "print(len(new_tokens))\n",
        "kept_ids = sorted(new_tokens)"
      ],
      "metadata": {
        "colab": {
          "base_uri": "https://localhost:8080/"
        },
        "id": "c_VVjitG3Cll",
        "outputId": "30783f31-a27e-4484-80e6-a22e2530d7c6"
      },
      "execution_count": null,
      "outputs": [
        {
          "output_type": "stream",
          "name": "stdout",
          "text": [
            "23432 Farsi tokens are included\n",
            "30000\n"
          ]
        }
      ]
    },
    {
      "cell_type": "markdown",
      "source": [
        "The new vocabulary is only 2% of the original one."
      ],
      "metadata": {
        "id": "W6erBS9p3fE9"
      }
    },
    {
      "cell_type": "code",
      "source": [
        "len(kept_ids) / tokenizer.vocab_size"
      ],
      "metadata": {
        "colab": {
          "base_uri": "https://localhost:8080/"
        },
        "id": "w1QUzmdw3VZ0",
        "outputId": "073c1c30-4aa8-4d19-b4a4-113b9ae9f6e3"
      },
      "execution_count": null,
      "outputs": [
        {
          "output_type": "execute_result",
          "data": {
            "text/plain": [
              "0.11995201919232307"
            ]
          },
          "metadata": {},
          "execution_count": 17
        }
      ]
    },
    {
      "cell_type": "markdown",
      "source": [
        "The plot shows that the tokens that were more frequent in the original vocabulary, more frequently get into the new vocabulary (so that the curve bends upward)."
      ],
      "metadata": {
        "id": "HmY2GYMP3in3"
      }
    },
    {
      "cell_type": "code",
      "source": [
        "plt.plot(kept_ids)\n",
        "plt.xlabel('new id of token')\n",
        "plt.ylabel('old id of token');"
      ],
      "metadata": {
        "colab": {
          "base_uri": "https://localhost:8080/",
          "height": 279
        },
        "id": "9JSkJsTj3ccx",
        "outputId": "2b98b048-13d6-4728-b8bb-e9ac750e34f2"
      },
      "execution_count": null,
      "outputs": [
        {
          "output_type": "display_data",
          "data": {
            "text/plain": [
              "<Figure size 432x288 with 1 Axes>"
            ],
            "image/png": "[encoded data removed]"
          },
          "metadata": {
            "needs_background": "light"
          }
        }
      ]
    },
    {
      "cell_type": "markdown",
      "source": [
        "## Updating the Model"
      ],
      "metadata": {
        "id": "mFiqXdWE3u7R"
      }
    },
    {
      "cell_type": "code",
      "source": [
        "new_size = len(kept_ids)\n",
        "new_emb = torch.nn.Embedding(new_size, model.shared.embedding_dim)\n",
        "new_head = torch.nn.Linear(in_features=model.lm_head.in_features, out_features=new_size, bias=False)"
      ],
      "metadata": {
        "id": "nBJL_CKk3rZF"
      },
      "execution_count": null,
      "outputs": []
    },
    {
      "cell_type": "code",
      "source": [
        "for new_id, old_id in enumerate(kept_ids):\n",
        "    new_emb.weight.data[new_id] = model.shared.weight.data[old_id]\n",
        "    new_head.weight.data[new_id] = model.lm_head.weight.data[old_id]"
      ],
      "metadata": {
        "id": "_2xRD2Te34xy"
      },
      "execution_count": null,
      "outputs": []
    },
    {
      "cell_type": "code",
      "source": [
        "model.shared.weight = new_emb.weight\n",
        "model.lm_head.weight = new_head.weight"
      ],
      "metadata": {
        "id": "tmF1R1dX365Y"
      },
      "execution_count": null,
      "outputs": []
    },
    {
      "cell_type": "markdown",
      "source": [
        "The new model has 208M parameters - 35% of the original size. "
      ],
      "metadata": {
        "id": "9gKH43lf4UlA"
      }
    },
    {
      "cell_type": "code",
      "source": [
        "print(msize(model), msize(model) / original_size)"
      ],
      "metadata": {
        "colab": {
          "base_uri": "https://localhost:8080/"
        },
        "id": "iCc-39KY3-2T",
        "outputId": "fb07cd9e-32e9-46d5-8786-5778d0e01e77"
      },
      "execution_count": null,
      "outputs": [
        {
          "output_type": "stream",
          "name": "stdout",
          "text": [
            "244309248 0.4194861110195362\n"
          ]
        }
      ]
    },
    {
      "cell_type": "markdown",
      "source": [
        "## Updating the Tokenizer"
      ],
      "metadata": {
        "id": "ShkvrRe9-RWw"
      }
    },
    {
      "cell_type": "markdown",
      "source": [
        "T5 uses Sentencepiece tokenizer, which is implemented in C and is opaque to Python. \n",
        "\n",
        "Fortunately, we can download its model and deploy it into Python using its Protobuf representation. \n",
        "\n",
        "https://github.com/google/sentencepiece/issues/121"
      ],
      "metadata": {
        "id": "_ju07mbC-XHI"
      }
    },
    {
      "cell_type": "code",
      "source": [
        "!wget https://raw.githubusercontent.com/google/sentencepiece/master/src/sentencepiece_model.proto"
      ],
      "metadata": {
        "colab": {
          "base_uri": "https://localhost:8080/"
        },
        "id": "_LltzLTu4CQe",
        "outputId": "5fb6f004-f85d-4f25-fde8-4b47e1a289fd"
      },
      "execution_count": null,
      "outputs": [
        {
          "output_type": "stream",
          "name": "stdout",
          "text": [
            "--2022-12-07 19:22:42--  https://raw.githubusercontent.com/google/sentencepiece/master/src/sentencepiece_model.proto\n",
            "Resolving raw.githubusercontent.com (raw.githubusercontent.com)... 185.199.108.133, 185.199.109.133, 185.199.110.133, ...\n",
            "Connecting to raw.githubusercontent.com (raw.githubusercontent.com)|185.199.108.133|:443... connected.\n",
            "HTTP request sent, awaiting response... 200 OK\n",
            "Length: 13451 (13K) [text/plain]\n",
            "Saving to: ‘sentencepiece_model.proto.1’\n",
            "\n",
            "\r          sentencep   0%[                    ]       0  --.-KB/s               \rsentencepiece_model 100%[===================>]  13.14K  --.-KB/s    in 0s      \n",
            "\n",
            "2022-12-07 19:22:42 (98.4 MB/s) - ‘sentencepiece_model.proto.1’ saved [13451/13451]\n",
            "\n"
          ]
        }
      ]
    },
    {
      "cell_type": "markdown",
      "source": [
        "We compile the protobuf description of the sentencepiece model in order to be able to modify it."
      ],
      "metadata": {
        "id": "y_crtOFX-hDX"
      }
    },
    {
      "cell_type": "code",
      "source": [
        "!protoc --python_out=. sentencepiece_model.proto"
      ],
      "metadata": {
        "id": "H8MP2tHs-clb"
      },
      "execution_count": null,
      "outputs": []
    },
    {
      "cell_type": "markdown",
      "source": [
        "Now we can serialize the model used by the current tokenizer and open it as a protobuf class."
      ],
      "metadata": {
        "id": "eRxrZkna-pD_"
      }
    },
    {
      "cell_type": "code",
      "source": [
        "import sentencepiece_model_pb2 as spmp\n",
        "\n",
        "smp = tokenizer.sp_model.serialized_model_proto()\n",
        "m = spmp.ModelProto()\n",
        "m.ParseFromString(smp)\n",
        "\n",
        "print('the loaded model has pieces:', len(m.pieces))\n",
        "new_pieces = [m.pieces[idx] for idx in kept_ids]\n",
        "print('the new pieces:', len(new_pieces))\n",
        "\n",
        "# replace the content of the first 7K pieces\n",
        "for i, p in enumerate(new_pieces):\n",
        "    m.pieces[i].piece = p.piece\n",
        "    m.pieces[i].score = p.score\n",
        "    m.pieces[i].type = p.type\n",
        "\n",
        "# drop the remaining pieces\n",
        "n = len(new_pieces)\n",
        "for i in trange(len(m.pieces) - n):\n",
        "    m.pieces.pop(len(m.pieces) - 1)\n",
        "\n",
        "print(len(m.pieces))\n",
        "with open('new_sp.model', 'wb') as f:\n",
        "    f.write(m.SerializeToString())"
      ],
      "metadata": {
        "colab": {
          "base_uri": "https://localhost:8080/",
          "height": 101,
          "referenced_widgets": [
            "3e838453d352425e8afa948d4e0d9725",
            "f35e3c8fa1384e6bbd1c031881a59492",
            "2eaea1a0258d44c2979bfc6624de9e56",
            "22bb009fb54b4e54abd21b3a86229824",
            "3d9a90e28e87427c8535718f64c201df",
            "9668ac9487ee417caf5e0c13912edfbd",
            "76678a075d16479db50c9f5ceb958edc",
            "6881b98c875e4214b1d7172b35cb67aa",
            "ef808e4d2bed4b42bfd1e2099d6e7072",
            "f5091f11dcc2489da4ce1a721e251339",
            "a4d943eae67c4590926ea317d0a59aa3"
          ]
        },
        "id": "dbJjboQy-mCY",
        "outputId": "0d099712-d5dc-48bb-d16c-03093a7fe5be"
      },
      "execution_count": null,
      "outputs": [
        {
          "output_type": "stream",
          "name": "stdout",
          "text": [
            "the loaded model has pieces: 250100\n",
            "the new pieces: 30000\n"
          ]
        },
        {
          "output_type": "display_data",
          "data": {
            "text/plain": [
              "  0%|          | 0/220100 [00:00<?, ?it/s]"
            ],
            "application/vnd.jupyter.widget-view+json": {
              "version_major": 2,
              "version_minor": 0,
              "model_id": "3e838453d352425e8afa948d4e0d9725"
            }
          },
          "metadata": {}
        },
        {
          "output_type": "stream",
          "name": "stdout",
          "text": [
            "30000\n"
          ]
        }
      ]
    },
    {
      "cell_type": "code",
      "source": [
        "new_tokenizer = T5Tokenizer('new_sp.model', extra_ids=0)"
      ],
      "metadata": {
        "id": "nSP8xaVL-w4N"
      },
      "execution_count": null,
      "outputs": []
    },
    {
      "cell_type": "markdown",
      "source": [
        "## Saving the Model"
      ],
      "metadata": {
        "id": "kejkRjNUC-0o"
      }
    },
    {
      "cell_type": "code",
      "source": [
        "model.config.__dict__['vocab_size'] = new_size\n",
        "model.config.__dict__['_name_or_path'] = 'alighasemi/fa-t5-base'\n",
        "model.config"
      ],
      "metadata": {
        "colab": {
          "base_uri": "https://localhost:8080/"
        },
        "id": "iaiP-Cl3_GpK",
        "outputId": "a9814592-7761-4740-bf3e-c79838e70d51"
      },
      "execution_count": null,
      "outputs": [
        {
          "output_type": "execute_result",
          "data": {
            "text/plain": [
              "T5Config {\n",
              "  \"_name_or_path\": \"alighasemi/fa-t5-base\",\n",
              "  \"architectures\": [\n",
              "    \"MT5ForConditionalGeneration\"\n",
              "  ],\n",
              "  \"d_ff\": 2048,\n",
              "  \"d_kv\": 64,\n",
              "  \"d_model\": 768,\n",
              "  \"decoder_start_token_id\": 0,\n",
              "  \"dense_act_fn\": \"gelu_new\",\n",
              "  \"dropout_rate\": 0.1,\n",
              "  \"eos_token_id\": 1,\n",
              "  \"feed_forward_proj\": \"gated-gelu\",\n",
              "  \"initializer_factor\": 1.0,\n",
              "  \"is_encoder_decoder\": true,\n",
              "  \"is_gated_act\": true,\n",
              "  \"layer_norm_epsilon\": 1e-06,\n",
              "  \"model_type\": \"t5\",\n",
              "  \"num_decoder_layers\": 12,\n",
              "  \"num_heads\": 12,\n",
              "  \"num_layers\": 12,\n",
              "  \"output_past\": true,\n",
              "  \"pad_token_id\": 0,\n",
              "  \"relative_attention_max_distance\": 128,\n",
              "  \"relative_attention_num_buckets\": 32,\n",
              "  \"tie_word_embeddings\": false,\n",
              "  \"tokenizer_class\": \"T5Tokenizer\",\n",
              "  \"transformers_version\": \"4.25.1\",\n",
              "  \"use_cache\": true,\n",
              "  \"vocab_size\": 30000\n",
              "}"
            ]
          },
          "metadata": {},
          "execution_count": 27
        }
      ]
    },
    {
      "cell_type": "code",
      "source": [
        "new_tokenizer.save_pretrained('fa-t5-base')\n",
        "model.save_pretrained('fa-t5-base')"
      ],
      "metadata": {
        "id": "HKpNqY6tDFiy"
      },
      "execution_count": null,
      "outputs": []
    },
    {
      "cell_type": "code",
      "source": [
        "!ls fa-t5-base -alsh"
      ],
      "metadata": {
        "colab": {
          "base_uri": "https://localhost:8080/"
        },
        "id": "78FptiaqDI4G",
        "outputId": "5024223f-8e3b-402d-ffbd-3939d29d450b"
      },
      "execution_count": null,
      "outputs": [
        {
          "output_type": "stream",
          "name": "stdout",
          "text": [
            "total 933M\n",
            "4.0K drwxr-xr-x 2 root root 4.0K Dec  7 19:25 .\n",
            "4.0K drwxr-xr-x 1 root root 4.0K Dec  7 19:25 ..\n",
            "4.0K -rw-r--r-- 1 root root  801 Dec  7 19:25 config.json\n",
            "933M -rw-r--r-- 1 root root 933M Dec  7 19:25 pytorch_model.bin\n",
            "4.0K -rw-r--r-- 1 root root   74 Dec  7 19:25 special_tokens_map.json\n",
            "740K -rw-r--r-- 1 root root 738K Dec  7 19:25 spiece.model\n",
            "4.0K -rw-r--r-- 1 root root  245 Dec  7 19:25 tokenizer_config.json\n"
          ]
        }
      ]
    },
    {
      "cell_type": "markdown",
      "source": [
        "## Testing the Model"
      ],
      "metadata": {
        "id": "aKehscdaDQH-"
      }
    },
    {
      "cell_type": "code",
      "source": [
        "model1 = T5ForConditionalGeneration.from_pretrained('fa-t5-base')\n",
        "tokenizer1 = T5Tokenizer.from_pretrained('fa-t5-base')"
      ],
      "metadata": {
        "id": "awBQ2fV2DNMy"
      },
      "execution_count": null,
      "outputs": []
    },
    {
      "cell_type": "code",
      "source": [
        "inputs = tokenizer1('The <extra_id_0> walks in <extra_id_1> park.', return_tensors='pt')\n",
        "with torch.no_grad():\n",
        "    hypotheses = model1.generate(\n",
        "        **inputs, \n",
        "        do_sample=True, top_p=0.95, \n",
        "        num_return_sequences=3, \n",
        "        repetition_penalty=2.5,\n",
        "        max_length=32,\n",
        "    )\n",
        "for h in hypotheses:\n",
        "    print(tokenizer1.decode(h))"
      ],
      "metadata": {
        "colab": {
          "base_uri": "https://localhost:8080/"
        },
        "id": "HACaEZs2DUOF",
        "outputId": "0b564d34-7b70-43ba-9089-dac3610900e1"
      },
      "execution_count": null,
      "outputs": [
        {
          "output_type": "stream",
          "name": "stdout",
          "text": [
            "<pad> <extra_id_0> closest <extra_id_1> the <extra_id_2> this <extra_id_3> beach <extra_id_4> the beautiful national <extra_id_5> natural pool</s>\n",
            "<pad> <extra_id_0> house <extra_id_1> the <extra_id_2> nature at a <extra_id_3> man</s><pad><pad><pad><pad><pad>\n",
            "<pad> <extra_id_0> latest <extra_id_1> the <extra_id_2> public <extra_id_3> Grand <extra_id_4> the <extra_id_5> grand-summer at</s>\n"
          ]
        }
      ]
    },
    {
      "cell_type": "code",
      "source": [
        "inputs = tokenizer1('<extra_id_0> زیبا در حال قدم زدن <extra_id_1> در پارک است.', return_tensors='pt')\n",
        "with torch.no_grad():\n",
        "    hypotheses = model1.generate(\n",
        "        **inputs, \n",
        "        do_sample=True, top_p=0.95, \n",
        "        num_return_sequences=3, \n",
        "        repetition_penalty=2.5,\n",
        "        max_length=32,\n",
        "    )\n",
        "for h in hypotheses:\n",
        "    print(tokenizer1.decode(h))"
      ],
      "metadata": {
        "colab": {
          "base_uri": "https://localhost:8080/"
        },
        "id": "T3xm9YadDXyR",
        "outputId": "a02f5845-043d-4aa2-f013-f534304f59f7"
      },
      "execution_count": null,
      "outputs": [
        {
          "output_type": "stream",
          "name": "stdout",
          "text": [
            "<pad> <extra_id_0> زیبا <extra_id_1> خود <extra_id_2> به پارک با.</s><pad>\n",
            "<pad> <extra_id_0> هارمونی بسیار <extra_id_1> شان <extra_id_2> دارند.</s>\n",
            "<pad> <extra_id_0> یهودست آن <extra_id_1> زیبا <extra_id_2> است.</s>\n"
          ]
        }
      ]
    },
    {
      "cell_type": "markdown",
      "source": [
        "## Uploading the Model to Huggingface"
      ],
      "metadata": {
        "id": "Z42_V-jjD8ks"
      }
    },
    {
      "cell_type": "code",
      "source": [
        "!huggingface-cli login"
      ],
      "metadata": {
        "colab": {
          "base_uri": "https://localhost:8080/"
        },
        "id": "zOvL_Dz4DjHY",
        "outputId": "e05ebd10-93c0-4996-aef2-cbb5d48d075b"
      },
      "execution_count": null,
      "outputs": [
        {
          "output_type": "stream",
          "name": "stdout",
          "text": [
            "\n",
            "    _|    _|  _|    _|    _|_|_|    _|_|_|  _|_|_|  _|      _|    _|_|_|      _|_|_|_|    _|_|      _|_|_|  _|_|_|_|\n",
            "    _|    _|  _|    _|  _|        _|          _|    _|_|    _|  _|            _|        _|    _|  _|        _|\n",
            "    _|_|_|_|  _|    _|  _|  _|_|  _|  _|_|    _|    _|  _|  _|  _|  _|_|      _|_|_|    _|_|_|_|  _|        _|_|_|\n",
            "    _|    _|  _|    _|  _|    _|  _|    _|    _|    _|    _|_|  _|    _|      _|        _|    _|  _|        _|\n",
            "    _|    _|    _|_|      _|_|_|    _|_|_|  _|_|_|  _|      _|    _|_|_|      _|        _|    _|    _|_|_|  _|_|_|_|\n",
            "\n",
            "    To login, `huggingface_hub` now requires a token generated from https://huggingface.co/settings/tokens .\n",
            "    \n",
            "Token: \n",
            "Add token as git credential? (Y/n) n\n",
            "Token is valid.\n",
            "Your token has been saved to /root/.huggingface/token\n",
            "Login successful\n"
          ]
        }
      ]
    },
    {
      "cell_type": "code",
      "source": [
        "model1.push_to_hub('fa-t5-base')\n",
        "tokenizer1.push_to_hub('fa-t5-base')"
      ],
      "metadata": {
        "colab": {
          "base_uri": "https://localhost:8080/"
        },
        "id": "OJToP5WbEAeD",
        "outputId": "7849c19a-dbff-4ea0-a6f6-d57bc619cab3"
      },
      "execution_count": null,
      "outputs": [
        {
          "output_type": "execute_result",
          "data": {
            "text/plain": [
              "CommitInfo(commit_url='https://huggingface.co/alighasemi/fa-t5-base/commit/ae94954e148be946ac5482176551591b924e6bd3', commit_message='Upload tokenizer', commit_description='', oid='ae94954e148be946ac5482176551591b924e6bd3', pr_url=None, pr_revision=None, pr_num=None)"
            ]
          },
          "metadata": {},
          "execution_count": 34
        }
      ]
    },
    {
      "cell_type": "code",
      "source": [],
      "metadata": {
        "id": "5262HG0lEIDM"
      },
      "execution_count": null,
      "outputs": []
    }
  ]
}